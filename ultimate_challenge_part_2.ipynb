{
 "cells": [
  {
   "cell_type": "markdown",
   "metadata": {},
   "source": [
    "# 1. What would you choose as the key measure of success of this experiment in encouraging driver partners to serve both cities, and why would you choose this metric?\n",
    "\n",
    "\n",
    "\n",
    "The goal as set out in the experiment is to \"encourage driver partners to be available in both cities\". We need to quantify this goal and be able to measure it. One issue that comes to mind is what is the exact definition of \"being availble in a city\" and how do you determine at a point in time that a driver is available in a certain city? Does it mean being physically present in the city? My best guess is that at any point of time a driver is available in a city if a customer located in the same city is able to request for that driver to pick him/her up in order to drop off the customer at his/her destination. Therefore a driver need not to be physically present in the same city that the customer is at the time the services of the driver are requested. \n",
    "\n",
    "Another assumption that I am making is that since in part one there is mention of users logging in I will assume that these users are customers and that customers logon to some kind of software application in order to hail the services of a driver (again I assume) through Ultimate's platform. Now there is no mention of the word \"Ultimate\" in part 1 or the intro above it however the entire PDF document is named \"ultimate_data_science_challenge\" and the problem description on the Springboard curriculum also states \"This challenge has been adapted from an actual Ultimate, Inc. data science challenge.\"\n",
    "\n",
    "Since there is most likely a software that drivers are connected to and that it is likely that the drivers are at all times reporting their geolocation to Ultimate's platform ( e.g. through their location-tracking-enabled smart phone ) we can at any point of time define availability of a driver d to pick up a customer in city c as:\n",
    "\n",
    "DEFINITION 1: At any point of time if the physical location of d is within radius x of city c then d is \"available\" to pick up a customer in city c at that time.\n",
    "\n",
    "Note that available is in quotes. The reason is that our definition of available would be closer to the English definition of \"potentially being availble\". This is because even if d is within x distance of c, d may not be able to pickup a customer in c because maybe d already has a passenger and cannot attend to other customers. However I will not change the definition to inlcude \"being available to attend to customers\" because that is more related to demand and supply and not to the flow of drivers between the cities. In other words the \"free toll idea\" might be working great but drivers may rarely be available simply because demand is far greater than supply.\n",
    "\n",
    "One more implicit assumption in DEFINITION 1 is that if a customer hails (or e-hails might be a more apt choice of word) a driver that is within x distance of city c then d must pickup the customer. If this is not the case that I would change my definition to :\n",
    "\n",
    "DEFINITION 2: At any point of time if the physical location of d is within radius x of city c then d is \"available\" to pick up a customer in city c at that time provied that d has opted for being available to pickup customers in city c.\n",
    "\n",
    "Another important point here is that a city may be so large that a driver may be \"available\" to pickup a customer in only certain neiborhoods of c. Should this assumption not hold I would make another definition.\n",
    "\n",
    "DEFINITION 3.1: At any point of time if the physical location of d is within radius x of neighborhood n in city c then d is \"available\" to pick up a customer in neighborhood n at that time provied that d has opted for being available to pickup customers in city c.\n",
    "\n",
    "DEFINITION 3.2: At any point in time the \"availability score\" of driver d in city c is \n",
    "                (a1*n1 + a2*n2 + ... +ak*nk)/(a1 + a2+ ... + ak) \n",
    "                where ai = physical area of neigborhood i in city c\n",
    "                ni is 1 if d is \"available\" to pickup a customer in neigborhood i and 0 otherwise\n",
    "                \n",
    "The above definition means that \"avilability score\" is a number between 0 and 1 where 1 means available everywhere and 0 means available nowhere.\n",
    "                \n",
    "You might ask why not define availability to be in terms of being within radius x of the physical location of a customer. One answer is that measuring and trying to optimize this metric may lead to a chicken and egg problem. Maybe the reason customers are not logging in to the app to e-hail a driver in a certain neighborhood is because they know from eexperience that drivers are generally not available in certain neighborhoods and vice versa maybe drivers are not going to these neighborhoods because they think there is no demand. In such a situation the algorithm would not measure low availability in these neighborhoods because it is measuring availability between locations where customers are logging in to the app.\n",
    "\n",
    "Finally with regard to definition 3.1 and 3.2 I am assuming that Ultimate Inc's goal is to maximize availability in all neighborhoods n1, n2 ,,, nk of city c.\n",
    "\n",
    "Now that we have 3.2 to measure the \"availability score\" of a driver d in city c at time t we can define another metric which I will call the \"joint availability score\" of driver d:\n",
    "\n",
    "DEFINITION 3.3. At any point in time \"joint availability score\" of driver d is equal to \n",
    "\n",
    " (\"availability score\"(d,Gotham) * area of Gotham) + (\"availability score\"(d, Metropolis) * area of Metropolis) / (area of Gotham + area of Metropolis)\n",
    " \n",
    " You can in the above definition replace the area with weights wg and wm where these are valued based on the importance that we place on Gotham and Metropolis respectively. The same can be done for a1, a2 ,,, ak in DEFINITION 3.2\n",
    " \n",
    "Finally during a period p we would want to find the \"average joint availability score\" of driver d which is just the mean of all the \"joint availability scores\" accross all times tj belonging to period p.\n",
    " \n",
    "If we sum all the \"average joint availability scores\" across all drivers in period p and divide by the number of drivers then we would arrive at our key mertic which I will call the \"average joint availability score accorss all drivers\". Again this would be a number between 0 and 1. We need to measure \"average joint availability score accorss all drivers\" both before and after the implementation of the \"free toll idea\" in order to determine its success. \n",
    "\n",
    "\n",
    "Now I can't help to point out there is also another much simpler key metric which can be measured if the above key measurement is to complicated to obtain. One can simply obtain the average number and/or percentage of drivers that opt-in to pickup passengers in both Gotham and Metropolis during a certain period before and after the implementation of the \"free toll idea\". Of course this definition will have its own set of assumoptions but for the sake of brevity I will not expand on the details. Let's just label it ALTERNATE DEFINITION."
   ]
  },
  {
   "cell_type": "markdown",
   "metadata": {},
   "source": [
    "# 2.Describe a practical experiment you would design to compare the effectiveness of the proposed change in relation to the key measure of success. Please provide details on:\n",
    "\n",
    "## a. how you will implement the experiment:\n",
    "\n",
    "As mentioned above we need to measure our key metric ( in this example DEFINITION 3.3 or ALTERNATE DEFINITION ) before implementation of the \"free toll idea\". Also make sure this measurement is done for sufficient number of periods to make sure we have good indicator of the best estiamte to our key metric. Then we would repeat the same data colleaction, measurements and calculations after implemtation of the \"free toll idea\". In each phase of the experiment measure revenue and profits generated for the company keeping in mind that in the second phase the reimbursement of toll fees by the company to the drivers will count as an expense for the company. The reason will be explained in part (c). \n",
    "\n",
    "## b.What statistical test(s) you will conduct to verify the significance of the observation\n",
    "In order to determine if the idea was successful we would use A/B testing ( hypothesis testing ) where our null hypothesis would be that the \"free toll idea\" has no effect on the change in our key metric as defined above (DEFINITION 3.3 or ALTERNATE DEFINITION)\n",
    "\n",
    "## c. How you would interpret the results and provide recommendations to the city operations team along with any caveats.\n",
    "If our key metric (DEFINITION 3.3 or ALTERNATE DEFINITION) turned out to improve ( i.e. increase ) our key metric in a way that is statisticallty significant then we would know that the \"free toll idea\" is a good idea. However before implementing the \"free toll\" idea we also need to estimate its effects on profit and revenue ( again we are making an assumption that profits and revenue are commmon goals of all for-profit orginzations and that Ultimate Inc. is a for-profit ccompany). If we determine that the \"free toll idea\" works then we should now observe its effect on revenue and profit.  Maybe the increased availability creates more business for Ultimate Inc. to the point that even when you subtract the cost of the \"free tolls\" the company is left with more profits. This is the best case scenario and in this case we recommend to go ahead with the \"free toll idea\" as is. If however implementation of the \"free toll\" idea is not financially rewariding for Ultimate Inc. busines then we would need to study if passing the toll charge to the customer would reduce demand or not. If it does not then I would probably recommend to proceed with the \"free toll idea\" with the caveat that if you do not charge the customer the cost of the tolls the business would be making less money than it would before the implementation of the idea. However this might be fine as well as a company may be making a strtegic descision to make less short term profits as an investment which will pay off in the future."
   ]
  }
 ],
 "metadata": {
  "kernelspec": {
   "display_name": "Python 3",
   "language": "python",
   "name": "python3"
  },
  "language_info": {
   "codemirror_mode": {
    "name": "ipython",
    "version": 3
   },
   "file_extension": ".py",
   "mimetype": "text/x-python",
   "name": "python",
   "nbconvert_exporter": "python",
   "pygments_lexer": "ipython3",
   "version": "3.6.7"
  }
 },
 "nbformat": 4,
 "nbformat_minor": 2
}
