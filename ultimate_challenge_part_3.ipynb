{
 "cells": [
  {
   "cell_type": "markdown",
   "metadata": {},
   "source": [
    "# Part 3 ‑ Predictive modeling\n",
    "Perform any cleaning, exploratory analysis, and/or visualizations to use the provided\n",
    "data for this analysis (a few sentences/plots describing your approach will suffice). What\n",
    "fraction of the observed users were retained?"
   ]
  },
  {
   "cell_type": "code",
   "execution_count": 1,
   "metadata": {},
   "outputs": [],
   "source": [
    "import json\n",
    "from pandas.io.json import json_normalize\n",
    "import pandas as pd\n",
    "import numpy\n",
    "import h2o\n",
    "from h2o.estimators.glrm import H2OGeneralizedLowRankEstimator\n",
    "import matplotlib.pyplot as plt\n",
    "from sklearn.metrics import confusion_matrix, accuracy_score, classification_report, roc_curve, auc"
   ]
  },
  {
   "cell_type": "markdown",
   "metadata": {},
   "source": [
    "## 1.Perform any cleaning, exploratory analysis, and/or visualizations to use the provided data for this analysis (a few sentences/plots describing your approach will suffice). What fraction of the observed users were retained?"
   ]
  },
  {
   "cell_type": "code",
   "execution_count": 2,
   "metadata": {},
   "outputs": [],
   "source": [
    "with open('ultimate_data_challenge.json') as logins_file:\n",
    "    logins_string = json.load(logins_file)\n",
    "    user_data_df = json_normalize(logins_string)"
   ]
  },
  {
   "cell_type": "code",
   "execution_count": 3,
   "metadata": {},
   "outputs": [
    {
     "name": "stdout",
     "output_type": "stream",
     "text": [
      "<class 'pandas.core.frame.DataFrame'>\n",
      "RangeIndex: 50000 entries, 0 to 49999\n",
      "Data columns (total 12 columns):\n",
      "city                      50000 non-null object\n",
      "trips_in_first_30_days    50000 non-null int64\n",
      "signup_date               50000 non-null object\n",
      "avg_rating_of_driver      41878 non-null float64\n",
      "avg_surge                 50000 non-null float64\n",
      "last_trip_date            50000 non-null object\n",
      "phone                     49604 non-null object\n",
      "surge_pct                 50000 non-null float64\n",
      "ultimate_black_user       50000 non-null bool\n",
      "weekday_pct               50000 non-null float64\n",
      "avg_dist                  50000 non-null float64\n",
      "avg_rating_by_driver      49799 non-null float64\n",
      "dtypes: bool(1), float64(6), int64(1), object(4)\n",
      "memory usage: 4.2+ MB\n"
     ]
    }
   ],
   "source": [
    "user_data_df.info()"
   ]
  },
  {
   "cell_type": "markdown",
   "metadata": {},
   "source": [
    "Two points become evident when looking at the above. Three columns have null values and that signup_date and last_trip_date are not in datetime format. Let's convert signup_date and last_trip_date to datetime format."
   ]
  },
  {
   "cell_type": "code",
   "execution_count": 4,
   "metadata": {},
   "outputs": [],
   "source": [
    "user_data_df['signup_date'] = pd.to_datetime(user_data_df['signup_date'])\n",
    "user_data_df['last_trip_date'] = pd.to_datetime(user_data_df['last_trip_date'])"
   ]
  },
  {
   "cell_type": "code",
   "execution_count": 5,
   "metadata": {},
   "outputs": [
    {
     "name": "stdout",
     "output_type": "stream",
     "text": [
      "<class 'pandas.core.frame.DataFrame'>\n",
      "RangeIndex: 50000 entries, 0 to 49999\n",
      "Data columns (total 12 columns):\n",
      "city                      50000 non-null object\n",
      "trips_in_first_30_days    50000 non-null int64\n",
      "signup_date               50000 non-null datetime64[ns]\n",
      "avg_rating_of_driver      41878 non-null float64\n",
      "avg_surge                 50000 non-null float64\n",
      "last_trip_date            50000 non-null datetime64[ns]\n",
      "phone                     49604 non-null object\n",
      "surge_pct                 50000 non-null float64\n",
      "ultimate_black_user       50000 non-null bool\n",
      "weekday_pct               50000 non-null float64\n",
      "avg_dist                  50000 non-null float64\n",
      "avg_rating_by_driver      49799 non-null float64\n",
      "dtypes: bool(1), datetime64[ns](2), float64(6), int64(1), object(2)\n",
      "memory usage: 4.2+ MB\n"
     ]
    }
   ],
   "source": [
    "user_data_df.info()"
   ]
  },
  {
   "cell_type": "markdown",
   "metadata": {},
   "source": [
    "Now normally I would say let's deal with the columns with null values. However a couple of weeks ago I attended a meetup where Corinne Horn presented an algorithm called GLRM (Generalized Low Rank Models). In a nutshell this is a model that can be used to reduce the dimensionality of a dataset and help determine which features are important (similar to what PCA does) but your dataset can be heterogeneous (whereas PCA is applied on a data set with numeric variables). Plus with GLRM you don't need to deal with the issue of missing data/null values because model predicts the value of missing data. In other words GLRM among other things does feature engineering, dimentionality reduction and prediction all at the same time. Pretty cool! Now in this part we need to find important features with regard to predicting a certain column in the dataset and the dataset is heterogeneous and contains missing values. So you can imagine this reminded me about the Meetup I attended and I thougt I'd try out GLRM. Finally the paper for GLRM is authored by, among others, Corinne Horn. https://web.stanford.edu/~boyd/papers/pdf/glrm.pdf "
   ]
  },
  {
   "cell_type": "markdown",
   "metadata": {},
   "source": [
    "OK, based on the above anecdoe let us not do anything with the null values right now."
   ]
  },
  {
   "cell_type": "markdown",
   "metadata": {},
   "source": [
    "For now do NOT replace null values with mean"
   ]
  },
  {
   "cell_type": "code",
   "execution_count": 6,
   "metadata": {},
   "outputs": [
    {
     "name": "stdout",
     "output_type": "stream",
     "text": [
      "<class 'pandas.core.frame.DataFrame'>\n",
      "RangeIndex: 50000 entries, 0 to 49999\n",
      "Data columns (total 12 columns):\n",
      "city                      50000 non-null object\n",
      "trips_in_first_30_days    50000 non-null int64\n",
      "signup_date               50000 non-null datetime64[ns]\n",
      "avg_rating_of_driver      41878 non-null float64\n",
      "avg_surge                 50000 non-null float64\n",
      "last_trip_date            50000 non-null datetime64[ns]\n",
      "phone                     49604 non-null object\n",
      "surge_pct                 50000 non-null float64\n",
      "ultimate_black_user       50000 non-null bool\n",
      "weekday_pct               50000 non-null float64\n",
      "avg_dist                  50000 non-null float64\n",
      "avg_rating_by_driver      49799 non-null float64\n",
      "dtypes: bool(1), datetime64[ns](2), float64(6), int64(1), object(2)\n",
      "memory usage: 4.2+ MB\n"
     ]
    }
   ],
   "source": [
    "#user_data_df['avg_rating_of_driver'].fillna(user_data_df['avg_rating_of_driver'].mean(), inplace=True)\n",
    "#user_data_df['avg_rating_by_driver'].fillna(user_data_df['avg_rating_by_driver'].mean(), inplace=True)\n",
    "user_data_df.info()"
   ]
  },
  {
   "cell_type": "markdown",
   "metadata": {},
   "source": [
    "Now we can define the retained column by checking if a user had a trip in the past 30 days. The issue is that the date that the data was pulled is not mentioned so the best we can do is to assume that the date the data was pulled is the same as the last date that a user travelled. Therefore let us look at the last_trip_date column of the dataset "
   ]
  },
  {
   "cell_type": "code",
   "execution_count": 7,
   "metadata": {},
   "outputs": [
    {
     "data": {
      "text/plain": [
       "count                   50000\n",
       "unique                    182\n",
       "top       2014-06-29 00:00:00\n",
       "freq                     2036\n",
       "first     2014-01-01 00:00:00\n",
       "last      2014-07-01 00:00:00\n",
       "Name: last_trip_date, dtype: object"
      ]
     },
     "execution_count": 7,
     "metadata": {},
     "output_type": "execute_result"
    }
   ],
   "source": [
    "user_data_df['last_trip_date'].describe()"
   ]
  },
  {
   "cell_type": "markdown",
   "metadata": {},
   "source": [
    "As June is 30 days we will consider a user to be active/retained if that user had a trip in June 2014 or July 2014 ( need to include boundry case 2014-07-01 00:00:00 )"
   ]
  },
  {
   "cell_type": "code",
   "execution_count": 8,
   "metadata": {},
   "outputs": [
    {
     "name": "stdout",
     "output_type": "stream",
     "text": [
      "37.608000% of the customers were retained\n"
     ]
    }
   ],
   "source": [
    "user_data_df['retained'] = user_data_df['last_trip_date'].dt.month >= 6\n",
    "# print(user_data_df.head())\n",
    "perc_ret = len(numpy.where(user_data_df['retained'] == True)[0]) / len(user_data_df['retained']) * 100  \n",
    "print(\"{0:2f}% of the customers were retained\".format(perc_ret))"
   ]
  },
  {
   "cell_type": "markdown",
   "metadata": {},
   "source": [
    "## 2.Build a predictive model to help Ultimate determine whether or not a user will be active in their 6th month on the system. Discuss why you chose your approach, what alternatives you considered, and any concerns you have. How valid is your model? Include any key indicators of model performance."
   ]
  },
  {
   "cell_type": "markdown",
   "metadata": {},
   "source": [
    "GLRM is packaged in H2O which means we need to start H2O"
   ]
  },
  {
   "cell_type": "code",
   "execution_count": 9,
   "metadata": {},
   "outputs": [
    {
     "name": "stdout",
     "output_type": "stream",
     "text": [
      "Checking whether there is an H2O instance running at http://localhost:54321 ..... not found.\n",
      "Attempting to start a local H2O server...\n",
      "; Java HotSpot(TM) 64-Bit Server VM (build 25.211-b12, mixed mode)\n",
      "  Starting server from C:\\Users\\farbo\\Anaconda3\\lib\\site-packages\\h2o\\backend\\bin\\h2o.jar\n",
      "  Ice root: C:\\Users\\farbo\\AppData\\Local\\Temp\\tmpue_dgexe\n",
      "  JVM stdout: C:\\Users\\farbo\\AppData\\Local\\Temp\\tmpue_dgexe\\h2o_farbo_started_from_python.out\n",
      "  JVM stderr: C:\\Users\\farbo\\AppData\\Local\\Temp\\tmpue_dgexe\\h2o_farbo_started_from_python.err\n",
      "  Server is running at http://127.0.0.1:54321\n",
      "Connecting to H2O server at http://127.0.0.1:54321 ... successful.\n"
     ]
    },
    {
     "data": {
      "text/html": [
       "<div style=\"overflow:auto\"><table style=\"width:50%\"><tr><td>H2O cluster uptime:</td>\n",
       "<td>02 secs</td></tr>\n",
       "<tr><td>H2O cluster timezone:</td>\n",
       "<td>America/Los_Angeles</td></tr>\n",
       "<tr><td>H2O data parsing timezone:</td>\n",
       "<td>UTC</td></tr>\n",
       "<tr><td>H2O cluster version:</td>\n",
       "<td>3.26.0.4</td></tr>\n",
       "<tr><td>H2O cluster version age:</td>\n",
       "<td>4 days </td></tr>\n",
       "<tr><td>H2O cluster name:</td>\n",
       "<td>H2O_from_python_farbo_ryy015</td></tr>\n",
       "<tr><td>H2O cluster total nodes:</td>\n",
       "<td>1</td></tr>\n",
       "<tr><td>H2O cluster free memory:</td>\n",
       "<td>1.745 Gb</td></tr>\n",
       "<tr><td>H2O cluster total cores:</td>\n",
       "<td>8</td></tr>\n",
       "<tr><td>H2O cluster allowed cores:</td>\n",
       "<td>8</td></tr>\n",
       "<tr><td>H2O cluster status:</td>\n",
       "<td>accepting new members, healthy</td></tr>\n",
       "<tr><td>H2O connection url:</td>\n",
       "<td>http://127.0.0.1:54321</td></tr>\n",
       "<tr><td>H2O connection proxy:</td>\n",
       "<td>None</td></tr>\n",
       "<tr><td>H2O internal security:</td>\n",
       "<td>False</td></tr>\n",
       "<tr><td>H2O API Extensions:</td>\n",
       "<td>Amazon S3, Algos, AutoML, Core V3, TargetEncoder, Core V4</td></tr>\n",
       "<tr><td>Python version:</td>\n",
       "<td>3.6.7 final</td></tr></table></div>"
      ],
      "text/plain": [
       "--------------------------  ---------------------------------------------------------\n",
       "H2O cluster uptime:         02 secs\n",
       "H2O cluster timezone:       America/Los_Angeles\n",
       "H2O data parsing timezone:  UTC\n",
       "H2O cluster version:        3.26.0.4\n",
       "H2O cluster version age:    4 days\n",
       "H2O cluster name:           H2O_from_python_farbo_ryy015\n",
       "H2O cluster total nodes:    1\n",
       "H2O cluster free memory:    1.745 Gb\n",
       "H2O cluster total cores:    8\n",
       "H2O cluster allowed cores:  8\n",
       "H2O cluster status:         accepting new members, healthy\n",
       "H2O connection url:         http://127.0.0.1:54321\n",
       "H2O connection proxy:\n",
       "H2O internal security:      False\n",
       "H2O API Extensions:         Amazon S3, Algos, AutoML, Core V3, TargetEncoder, Core V4\n",
       "Python version:             3.6.7 final\n",
       "--------------------------  ---------------------------------------------------------"
      ]
     },
     "metadata": {},
     "output_type": "display_data"
    }
   ],
   "source": [
    "h2o.init()"
   ]
  },
  {
   "cell_type": "code",
   "execution_count": 10,
   "metadata": {},
   "outputs": [],
   "source": [
    "h2o.remove_all()"
   ]
  },
  {
   "cell_type": "markdown",
   "metadata": {},
   "source": [
    "Let's convert a Pandas dataframe to an H2OFrame and inspect its structure"
   ]
  },
  {
   "cell_type": "code",
   "execution_count": 11,
   "metadata": {},
   "outputs": [
    {
     "name": "stdout",
     "output_type": "stream",
     "text": [
      "Parse progress: |█████████████████████████████████████████████████████████| 100%\n"
     ]
    }
   ],
   "source": [
    "hf = h2o.H2OFrame(user_data_df)"
   ]
  },
  {
   "cell_type": "code",
   "execution_count": 12,
   "metadata": {},
   "outputs": [
    {
     "name": "stdout",
     "output_type": "stream",
     "text": [
      "Rows:50000\n",
      "Cols:13\n",
      "\n",
      "\n"
     ]
    },
    {
     "data": {
      "text/html": [
       "<table>\n",
       "<thead>\n",
       "<tr><th>       </th><th>city          </th><th>trips_in_first_30_days  </th><th>signup_date        </th><th>avg_rating_of_driver  </th><th>avg_surge         </th><th>last_trip_date     </th><th>phone  </th><th>surge_pct         </th><th>ultimate_black_user  </th><th>weekday_pct       </th><th>avg_dist         </th><th>avg_rating_by_driver  </th><th>retained  </th></tr>\n",
       "</thead>\n",
       "<tbody>\n",
       "<tr><td>type   </td><td>enum          </td><td>int                     </td><td>time               </td><td>real                  </td><td>real              </td><td>time               </td><td>enum   </td><td>real              </td><td>enum                 </td><td>real              </td><td>real             </td><td>real                  </td><td>enum      </td></tr>\n",
       "<tr><td>mins   </td><td>              </td><td>0.0                     </td><td>1388534400000.0    </td><td>1.0                   </td><td>1.0               </td><td>1388534400000.0    </td><td>       </td><td>0.0               </td><td>                     </td><td>0.0               </td><td>0.0              </td><td>1.0                   </td><td>          </td></tr>\n",
       "<tr><td>mean   </td><td>              </td><td>2.278199999999998       </td><td>1389877460352.002  </td><td>4.601559291274633     </td><td>1.0747638000000022</td><td>1397894524991.993  </td><td>       </td><td>8.849535999999942 </td><td>                     </td><td>60.92608399999982 </td><td>5.796826600000038</td><td>4.778158195947728     </td><td>          </td></tr>\n",
       "<tr><td>maxs   </td><td>              </td><td>125.0                   </td><td>1391126400000.0    </td><td>5.0                   </td><td>8.0               </td><td>1404172800000.0    </td><td>       </td><td>100.0             </td><td>                     </td><td>100.0             </td><td>160.96           </td><td>5.0                   </td><td>          </td></tr>\n",
       "<tr><td>sigma  </td><td>              </td><td>3.7926840692376356      </td><td>756364650.5215249  </td><td>0.6173384560411358    </td><td>0.2223360089494666</td><td>5332520288.309384  </td><td>       </td><td>19.958810898131006</td><td>                     </td><td>37.081503405105295</td><td>5.707356703233388</td><td>0.44665179346562056   </td><td>          </td></tr>\n",
       "<tr><td>zeros  </td><td>              </td><td>15390                   </td><td>0                  </td><td>0                     </td><td>0                 </td><td>0                  </td><td>       </td><td>34409             </td><td>                     </td><td>9203              </td><td>150              </td><td>0                     </td><td>          </td></tr>\n",
       "<tr><td>missing</td><td>0             </td><td>0                       </td><td>0                  </td><td>8122                  </td><td>0                 </td><td>0                  </td><td>0      </td><td>0                 </td><td>0                    </td><td>0                 </td><td>0                </td><td>201                   </td><td>0         </td></tr>\n",
       "<tr><td>0      </td><td>King's Landing</td><td>4.0                     </td><td>2014-01-25 00:00:00</td><td>4.7                   </td><td>1.1               </td><td>2014-06-17 00:00:00</td><td>iPhone </td><td>15.4              </td><td>True                 </td><td>46.2              </td><td>3.67             </td><td>5.0                   </td><td>True      </td></tr>\n",
       "<tr><td>1      </td><td>Astapor       </td><td>0.0                     </td><td>2014-01-29 00:00:00</td><td>5.0                   </td><td>1.0               </td><td>2014-05-05 00:00:00</td><td>Android</td><td>0.0               </td><td>False                </td><td>50.0              </td><td>8.26             </td><td>5.0                   </td><td>False     </td></tr>\n",
       "<tr><td>2      </td><td>Astapor       </td><td>3.0                     </td><td>2014-01-06 00:00:00</td><td>4.3                   </td><td>1.0               </td><td>2014-01-07 00:00:00</td><td>iPhone </td><td>0.0               </td><td>False                </td><td>100.0             </td><td>0.77             </td><td>5.0                   </td><td>False     </td></tr>\n",
       "<tr><td>3      </td><td>King's Landing</td><td>9.0                     </td><td>2014-01-10 00:00:00</td><td>4.6                   </td><td>1.14              </td><td>2014-06-29 00:00:00</td><td>iPhone </td><td>20.0              </td><td>True                 </td><td>80.0              </td><td>2.36             </td><td>4.9                   </td><td>True      </td></tr>\n",
       "<tr><td>4      </td><td>Winterfell    </td><td>14.0                    </td><td>2014-01-27 00:00:00</td><td>4.4                   </td><td>1.19              </td><td>2014-03-15 00:00:00</td><td>Android</td><td>11.8              </td><td>False                </td><td>82.4              </td><td>3.13             </td><td>4.9                   </td><td>False     </td></tr>\n",
       "<tr><td>5      </td><td>Winterfell    </td><td>2.0                     </td><td>2014-01-09 00:00:00</td><td>3.5                   </td><td>1.0               </td><td>2014-06-06 00:00:00</td><td>iPhone </td><td>0.0               </td><td>True                 </td><td>100.0             </td><td>10.56            </td><td>5.0                   </td><td>True      </td></tr>\n",
       "<tr><td>6      </td><td>Astapor       </td><td>1.0                     </td><td>2014-01-24 00:00:00</td><td>nan                   </td><td>1.0               </td><td>2014-01-25 00:00:00</td><td>Android</td><td>0.0               </td><td>False                </td><td>100.0             </td><td>3.95             </td><td>4.0                   </td><td>False     </td></tr>\n",
       "<tr><td>7      </td><td>Winterfell    </td><td>2.0                     </td><td>2014-01-28 00:00:00</td><td>5.0                   </td><td>1.0               </td><td>2014-01-29 00:00:00</td><td>iPhone </td><td>0.0               </td><td>False                </td><td>100.0             </td><td>2.04             </td><td>5.0                   </td><td>False     </td></tr>\n",
       "<tr><td>8      </td><td>Winterfell    </td><td>2.0                     </td><td>2014-01-21 00:00:00</td><td>4.5                   </td><td>1.0               </td><td>2014-02-01 00:00:00</td><td>Android</td><td>0.0               </td><td>False                </td><td>100.0             </td><td>4.36             </td><td>5.0                   </td><td>False     </td></tr>\n",
       "<tr><td>9      </td><td>Winterfell    </td><td>1.0                     </td><td>2014-01-03 00:00:00</td><td>nan                   </td><td>1.0               </td><td>2014-01-05 00:00:00</td><td>Android</td><td>0.0               </td><td>False                </td><td>0.0               </td><td>2.37             </td><td>5.0                   </td><td>False     </td></tr>\n",
       "</tbody>\n",
       "</table>"
      ]
     },
     "metadata": {},
     "output_type": "display_data"
    }
   ],
   "source": [
    "hf.describe()"
   ]
  },
  {
   "cell_type": "markdown",
   "metadata": {},
   "source": [
    "Now let's train the GLRM model. We don't need to set asside separate predictors and responses. We just pass the entire dataset (the labels are just like any other column) to the model and it will predict any missing values in the dataset. Therefore during testing you just need to delete the data in the response column ( i.e. retained ) and send the everything else to the model for inference."
   ]
  },
  {
   "cell_type": "code",
   "execution_count": 13,
   "metadata": {},
   "outputs": [],
   "source": [
    "train, test = hf.split_frame(ratios=[0.85], seed=1234)"
   ]
  },
  {
   "cell_type": "code",
   "execution_count": 14,
   "metadata": {},
   "outputs": [],
   "source": [
    "model = H2OGeneralizedLowRankEstimator(k=6, init=\"svd\", svd_method=\"power\", loss=\"quadratic\"\n",
    "                                       , regularization_x=\"l2\", regularization_y=\"l2\", max_iterations=2000, gamma_x=2\n",
    "                                       , gamma_y=1, impute_original=True, score_each_iteration=True, transform=\"normalize\"\n",
    "                                       , min_step_size=1e-5, loss_by_col=['categorical','categorical','logistic','hinge']\n",
    "                                       , loss_by_col_idx=[0,6,8,12])"
   ]
  },
  {
   "cell_type": "code",
   "execution_count": 15,
   "metadata": {},
   "outputs": [
    {
     "name": "stdout",
     "output_type": "stream",
     "text": [
      "glrm Model Build progress: |██████████████████████████████████████████████| 100%\n"
     ]
    }
   ],
   "source": [
    "model.train(x=hf.columns, training_frame=train)"
   ]
  },
  {
   "cell_type": "code",
   "execution_count": 16,
   "metadata": {},
   "outputs": [
    {
     "data": {
      "image/png": "[encoded data removed]",
      "text/plain": [
       "<Figure size 432x288 with 1 Axes>"
      ]
     },
     "metadata": {
      "needs_background": "light"
     },
     "output_type": "display_data"
    }
   ],
   "source": [
    "model_score = model.score_history()\n",
    "plt.xlabel(\"Iteration\")\n",
    "plt.ylabel(\"Objective\")\n",
    "plt.title(\"Objective Function Value per Iteration\")\n",
    "plt.plot(model_score[\"iterations\"], model_score[\"objective\"])\n",
    "plt.show()"
   ]
  },
  {
   "cell_type": "code",
   "execution_count": 17,
   "metadata": {},
   "outputs": [
    {
     "name": "stdout",
     "output_type": "stream",
     "text": [
      "glrm prediction progress: |███████████████████████████████████████████████| 100%\n"
     ]
    }
   ],
   "source": [
    "new_test = h2o.deep_copy(test, 'new_test')\n",
    "new_test[\"retained\"] = numpy.NaN\n",
    "pred = model.predict(new_test)\n",
    "pred['reconstr_retained'] = pred['reconstr_retained'].asfactor()"
   ]
  },
  {
   "cell_type": "code",
   "execution_count": 18,
   "metadata": {},
   "outputs": [
    {
     "name": "stdout",
     "output_type": "stream",
     "text": [
      "[[4346  261]\n",
      " [ 970 1970]]\n",
      "0.836888829998675\n",
      "              precision    recall  f1-score   support\n",
      "\n",
      "       False       0.82      0.94      0.88      4607\n",
      "        True       0.88      0.67      0.76      2940\n",
      "\n",
      "    accuracy                           0.84      7547\n",
      "   macro avg       0.85      0.81      0.82      7547\n",
      "weighted avg       0.84      0.84      0.83      7547\n",
      "\n"
     ]
    },
    {
     "data": {
      "image/png": "[encoded data removed]",
      "text/plain": [
       "<Figure size 432x288 with 1 Axes>"
      ]
     },
     "metadata": {
      "needs_background": "light"
     },
     "output_type": "display_data"
    }
   ],
   "source": [
    "print(confusion_matrix(test.as_data_frame()['retained'], pred.as_data_frame()['reconstr_retained']))\n",
    "print(accuracy_score(test.as_data_frame()['retained'], pred.as_data_frame()['reconstr_retained']))\n",
    "print(classification_report(test.as_data_frame()['retained'], pred.as_data_frame()['reconstr_retained']))\n",
    "fpr, tpr, thresholds = roc_curve(test.as_data_frame()['retained'], pred.as_data_frame()['reconstr_retained'])\n",
    "plt.figure()\n",
    "plt.plot(fpr, tpr, color='darkorange', lw=2, label='ROC curve (area = %0.2f)' % auc(fpr, tpr))\n",
    "plt.plot([0, 1], [0, 1], color='navy', lw=2, linestyle='--')\n",
    "plt.xlim([0.0, 1.0])\n",
    "plt.ylim([0.0, 1.05])\n",
    "plt.xlabel('False Positive Rate')\n",
    "plt.ylabel('True Positive Rate')\n",
    "plt.title('Receiver operating characteristic example')\n",
    "plt.legend(loc=\"lower right\")\n",
    "plt.show()"
   ]
  },
  {
   "cell_type": "markdown",
   "metadata": {},
   "source": [
    "Very good results. Thanks Corrine!"
   ]
  },
  {
   "cell_type": "markdown",
   "metadata": {},
   "source": [
    "Now we need to figure out what feature are of more importance to the model."
   ]
  },
  {
   "cell_type": "code",
   "execution_count": 19,
   "metadata": {},
   "outputs": [
    {
     "name": "stdout",
     "output_type": "stream",
     "text": [
      "\n",
      "Archetypes: "
     ]
    },
    {
     "data": {
      "text/html": [
       "<div>\n",
       "<style scoped>\n",
       "    .dataframe tbody tr th:only-of-type {\n",
       "        vertical-align: middle;\n",
       "    }\n",
       "\n",
       "    .dataframe tbody tr th {\n",
       "        vertical-align: top;\n",
       "    }\n",
       "\n",
       "    .dataframe thead th {\n",
       "        text-align: right;\n",
       "    }\n",
       "</style>\n",
       "<table border=\"1\" class=\"dataframe\">\n",
       "  <thead>\n",
       "    <tr style=\"text-align: right;\">\n",
       "      <th></th>\n",
       "      <th></th>\n",
       "      <th>cityastapor</th>\n",
       "      <th>citykings_landing</th>\n",
       "      <th>citywinterfell</th>\n",
       "      <th>phone</th>\n",
       "      <th>phoneandroid</th>\n",
       "      <th>phoneiphone</th>\n",
       "      <th>ultimate_black_user</th>\n",
       "      <th>retained</th>\n",
       "      <th>trips_in_first_30_days</th>\n",
       "      <th>signup_date</th>\n",
       "      <th>avg_rating_of_driver</th>\n",
       "      <th>avg_surge</th>\n",
       "      <th>last_trip_date</th>\n",
       "      <th>surge_pct</th>\n",
       "      <th>weekday_pct</th>\n",
       "      <th>avg_dist</th>\n",
       "      <th>avg_rating_by_driver</th>\n",
       "    </tr>\n",
       "  </thead>\n",
       "  <tbody>\n",
       "    <tr>\n",
       "      <td>0</td>\n",
       "      <td>Arch1</td>\n",
       "      <td>-1.667198</td>\n",
       "      <td>1.473419</td>\n",
       "      <td>-9.656275</td>\n",
       "      <td>-10.558775</td>\n",
       "      <td>14.888120</td>\n",
       "      <td>-13.063803</td>\n",
       "      <td>-15.814348</td>\n",
       "      <td>-9.520181</td>\n",
       "      <td>-0.096356</td>\n",
       "      <td>-0.047193</td>\n",
       "      <td>0.092560</td>\n",
       "      <td>0.066471</td>\n",
       "      <td>-1.528308</td>\n",
       "      <td>0.562040</td>\n",
       "      <td>-4.310270</td>\n",
       "      <td>-0.032060</td>\n",
       "      <td>0.034890</td>\n",
       "    </tr>\n",
       "    <tr>\n",
       "      <td>1</td>\n",
       "      <td>Arch2</td>\n",
       "      <td>6.808730</td>\n",
       "      <td>11.477248</td>\n",
       "      <td>-23.416153</td>\n",
       "      <td>-4.601954</td>\n",
       "      <td>-18.807248</td>\n",
       "      <td>14.520443</td>\n",
       "      <td>1.524187</td>\n",
       "      <td>8.372024</td>\n",
       "      <td>0.015606</td>\n",
       "      <td>0.167073</td>\n",
       "      <td>0.169360</td>\n",
       "      <td>0.041162</td>\n",
       "      <td>1.887038</td>\n",
       "      <td>0.425173</td>\n",
       "      <td>-1.609646</td>\n",
       "      <td>-0.046340</td>\n",
       "      <td>0.112630</td>\n",
       "    </tr>\n",
       "    <tr>\n",
       "      <td>2</td>\n",
       "      <td>Arch3</td>\n",
       "      <td>25.187413</td>\n",
       "      <td>-1.993286</td>\n",
       "      <td>-12.627748</td>\n",
       "      <td>11.043680</td>\n",
       "      <td>15.178747</td>\n",
       "      <td>-10.030766</td>\n",
       "      <td>9.243775</td>\n",
       "      <td>-6.424874</td>\n",
       "      <td>-0.054100</td>\n",
       "      <td>0.126644</td>\n",
       "      <td>0.117885</td>\n",
       "      <td>-0.013522</td>\n",
       "      <td>-1.933293</td>\n",
       "      <td>-0.129122</td>\n",
       "      <td>1.911734</td>\n",
       "      <td>0.017110</td>\n",
       "      <td>0.103106</td>\n",
       "    </tr>\n",
       "    <tr>\n",
       "      <td>3</td>\n",
       "      <td>Arch4</td>\n",
       "      <td>3.861790</td>\n",
       "      <td>-16.502379</td>\n",
       "      <td>0.652950</td>\n",
       "      <td>-14.325537</td>\n",
       "      <td>-13.060579</td>\n",
       "      <td>12.042486</td>\n",
       "      <td>-13.181669</td>\n",
       "      <td>-17.668458</td>\n",
       "      <td>-0.049769</td>\n",
       "      <td>0.007023</td>\n",
       "      <td>-0.018859</td>\n",
       "      <td>-0.019184</td>\n",
       "      <td>-1.840936</td>\n",
       "      <td>-0.213201</td>\n",
       "      <td>2.096625</td>\n",
       "      <td>0.036308</td>\n",
       "      <td>0.019007</td>\n",
       "    </tr>\n",
       "    <tr>\n",
       "      <td>4</td>\n",
       "      <td>Arch5</td>\n",
       "      <td>4.940730</td>\n",
       "      <td>1.899691</td>\n",
       "      <td>-0.312369</td>\n",
       "      <td>7.157709</td>\n",
       "      <td>5.001356</td>\n",
       "      <td>1.103934</td>\n",
       "      <td>-31.076436</td>\n",
       "      <td>7.268849</td>\n",
       "      <td>0.006818</td>\n",
       "      <td>0.159078</td>\n",
       "      <td>-0.007974</td>\n",
       "      <td>0.008386</td>\n",
       "      <td>1.208490</td>\n",
       "      <td>0.097396</td>\n",
       "      <td>1.945492</td>\n",
       "      <td>-0.017800</td>\n",
       "      <td>-0.015285</td>\n",
       "    </tr>\n",
       "    <tr>\n",
       "      <td>5</td>\n",
       "      <td>Arch6</td>\n",
       "      <td>6.971749</td>\n",
       "      <td>-16.433412</td>\n",
       "      <td>2.353382</td>\n",
       "      <td>-8.985101</td>\n",
       "      <td>-0.957501</td>\n",
       "      <td>-3.455982</td>\n",
       "      <td>3.385795</td>\n",
       "      <td>13.662248</td>\n",
       "      <td>0.086053</td>\n",
       "      <td>0.139820</td>\n",
       "      <td>-0.116636</td>\n",
       "      <td>0.014746</td>\n",
       "      <td>4.112701</td>\n",
       "      <td>0.143410</td>\n",
       "      <td>-1.375277</td>\n",
       "      <td>-0.074614</td>\n",
       "      <td>-0.114025</td>\n",
       "    </tr>\n",
       "  </tbody>\n",
       "</table>\n",
       "</div>"
      ],
      "text/plain": [
       "          cityastapor  citykings_landing  citywinterfell      phone  \\\n",
       "0  Arch1    -1.667198           1.473419       -9.656275 -10.558775   \n",
       "1  Arch2     6.808730          11.477248      -23.416153  -4.601954   \n",
       "2  Arch3    25.187413          -1.993286      -12.627748  11.043680   \n",
       "3  Arch4     3.861790         -16.502379        0.652950 -14.325537   \n",
       "4  Arch5     4.940730           1.899691       -0.312369   7.157709   \n",
       "5  Arch6     6.971749         -16.433412        2.353382  -8.985101   \n",
       "\n",
       "   phoneandroid  phoneiphone  ultimate_black_user   retained  \\\n",
       "0     14.888120   -13.063803           -15.814348  -9.520181   \n",
       "1    -18.807248    14.520443             1.524187   8.372024   \n",
       "2     15.178747   -10.030766             9.243775  -6.424874   \n",
       "3    -13.060579    12.042486           -13.181669 -17.668458   \n",
       "4      5.001356     1.103934           -31.076436   7.268849   \n",
       "5     -0.957501    -3.455982             3.385795  13.662248   \n",
       "\n",
       "   trips_in_first_30_days  signup_date  avg_rating_of_driver  avg_surge  \\\n",
       "0               -0.096356    -0.047193              0.092560   0.066471   \n",
       "1                0.015606     0.167073              0.169360   0.041162   \n",
       "2               -0.054100     0.126644              0.117885  -0.013522   \n",
       "3               -0.049769     0.007023             -0.018859  -0.019184   \n",
       "4                0.006818     0.159078             -0.007974   0.008386   \n",
       "5                0.086053     0.139820             -0.116636   0.014746   \n",
       "\n",
       "   last_trip_date  surge_pct  weekday_pct  avg_dist  avg_rating_by_driver  \n",
       "0       -1.528308   0.562040    -4.310270 -0.032060              0.034890  \n",
       "1        1.887038   0.425173    -1.609646 -0.046340              0.112630  \n",
       "2       -1.933293  -0.129122     1.911734  0.017110              0.103106  \n",
       "3       -1.840936  -0.213201     2.096625  0.036308              0.019007  \n",
       "4        1.208490   0.097396     1.945492 -0.017800             -0.015285  \n",
       "5        4.112701   0.143410    -1.375277 -0.074614             -0.114025  "
      ]
     },
     "metadata": {},
     "output_type": "display_data"
    },
    {
     "name": "stdout",
     "output_type": "stream",
     "text": [
      "\n"
     ]
    }
   ],
   "source": [
    "ultimate_y = model._model_json[\"output\"][\"archetypes\"]\n",
    "print(ultimate_y)"
   ]
  },
  {
   "cell_type": "code",
   "execution_count": 20,
   "metadata": {},
   "outputs": [
    {
     "name": "stdout",
     "output_type": "stream",
     "text": [
      "\n",
      "Importance of components: "
     ]
    },
    {
     "data": {
      "text/html": [
       "<div>\n",
       "<style scoped>\n",
       "    .dataframe tbody tr th:only-of-type {\n",
       "        vertical-align: middle;\n",
       "    }\n",
       "\n",
       "    .dataframe tbody tr th {\n",
       "        vertical-align: top;\n",
       "    }\n",
       "\n",
       "    .dataframe thead th {\n",
       "        text-align: right;\n",
       "    }\n",
       "</style>\n",
       "<table border=\"1\" class=\"dataframe\">\n",
       "  <thead>\n",
       "    <tr style=\"text-align: right;\">\n",
       "      <th></th>\n",
       "      <th></th>\n",
       "      <th>pc1</th>\n",
       "      <th>pc2</th>\n",
       "      <th>pc3</th>\n",
       "      <th>pc4</th>\n",
       "      <th>pc5</th>\n",
       "      <th>pc6</th>\n",
       "    </tr>\n",
       "  </thead>\n",
       "  <tbody>\n",
       "    <tr>\n",
       "      <td>0</td>\n",
       "      <td>Standard deviation</td>\n",
       "      <td>1.365848</td>\n",
       "      <td>1.028513</td>\n",
       "      <td>0.788480</td>\n",
       "      <td>0.695770</td>\n",
       "      <td>0.499210</td>\n",
       "      <td>0.370620</td>\n",
       "    </tr>\n",
       "    <tr>\n",
       "      <td>1</td>\n",
       "      <td>Proportion of Variance</td>\n",
       "      <td>0.422475</td>\n",
       "      <td>0.239561</td>\n",
       "      <td>0.140792</td>\n",
       "      <td>0.109629</td>\n",
       "      <td>0.056437</td>\n",
       "      <td>0.031107</td>\n",
       "    </tr>\n",
       "    <tr>\n",
       "      <td>2</td>\n",
       "      <td>Cumulative Proportion</td>\n",
       "      <td>0.422475</td>\n",
       "      <td>0.662035</td>\n",
       "      <td>0.802827</td>\n",
       "      <td>0.912457</td>\n",
       "      <td>0.968893</td>\n",
       "      <td>1.000000</td>\n",
       "    </tr>\n",
       "  </tbody>\n",
       "</table>\n",
       "</div>"
      ],
      "text/plain": [
       "                                pc1       pc2       pc3       pc4       pc5  \\\n",
       "0      Standard deviation  1.365848  1.028513  0.788480  0.695770  0.499210   \n",
       "1  Proportion of Variance  0.422475  0.239561  0.140792  0.109629  0.056437   \n",
       "2   Cumulative Proportion  0.422475  0.662035  0.802827  0.912457  0.968893   \n",
       "\n",
       "        pc6  \n",
       "0  0.370620  \n",
       "1  0.031107  \n",
       "2  1.000000  "
      ]
     },
     "metadata": {},
     "output_type": "display_data"
    },
    {
     "data": {
      "text/plain": []
     },
     "execution_count": 20,
     "metadata": {},
     "output_type": "execute_result"
    }
   ],
   "source": [
    "model._model_json[\"output\"][\"importance\"]"
   ]
  },
  {
   "cell_type": "markdown",
   "metadata": {},
   "source": [
    "From the above we can see that the first three principle component ( i.e. Archetypes ) cumulatively explain 80% of the variance of the dataset. Let's look at what features highly contribute positively or negatively to these three Archetypes. "
   ]
  },
  {
   "cell_type": "code",
   "execution_count": 21,
   "metadata": {},
   "outputs": [
    {
     "data": {
      "text/plain": [
       "phoneandroid                14.8881\n",
       "citykings_landing           1.47342\n",
       "surge_pct                   0.56204\n",
       "avg_rating_of_driver      0.0925596\n",
       "avg_surge                 0.0664706\n",
       "avg_rating_by_driver      0.0348898\n",
       "avg_dist                 -0.0320599\n",
       "signup_date              -0.0471926\n",
       "trips_in_first_30_days    -0.096356\n",
       "last_trip_date             -1.52831\n",
       "cityastapor                 -1.6672\n",
       "weekday_pct                -4.31027\n",
       "retained                   -9.52018\n",
       "citywinterfell             -9.65628\n",
       "phone                      -10.5588\n",
       "phoneiphone                -13.0638\n",
       "ultimate_black_user        -15.8143\n",
       "Name: 0, dtype: object"
      ]
     },
     "execution_count": 21,
     "metadata": {},
     "output_type": "execute_result"
    }
   ],
   "source": [
    "ultimate_y.as_data_frame().iloc[0,1:].sort_values(ascending=False)"
   ]
  },
  {
   "cell_type": "markdown",
   "metadata": {},
   "source": [
    "It appears that being an Ultimate Black customer, type of phone and whether or not the user signed up in winterfell have the highest contribution to Arch1. Whether or not the customer is retained also has high contribution but since we are trying to predict \"retained\" we cannot use it as a feature for predicting itself."
   ]
  },
  {
   "cell_type": "code",
   "execution_count": 22,
   "metadata": {},
   "outputs": [
    {
     "data": {
      "text/plain": [
       "phoneiphone                 14.5204\n",
       "citykings_landing           11.4772\n",
       "retained                    8.37202\n",
       "cityastapor                 6.80873\n",
       "last_trip_date              1.88704\n",
       "ultimate_black_user         1.52419\n",
       "surge_pct                  0.425173\n",
       "avg_rating_of_driver        0.16936\n",
       "signup_date                0.167073\n",
       "avg_rating_by_driver        0.11263\n",
       "avg_surge                 0.0411619\n",
       "trips_in_first_30_days    0.0156057\n",
       "avg_dist                 -0.0463396\n",
       "weekday_pct                -1.60965\n",
       "phone                      -4.60195\n",
       "phoneandroid               -18.8072\n",
       "citywinterfell             -23.4162\n",
       "Name: 1, dtype: object"
      ]
     },
     "execution_count": 22,
     "metadata": {},
     "output_type": "execute_result"
    }
   ],
   "source": [
    "ultimate_y.as_data_frame().iloc[1,1:].sort_values(ascending=False)"
   ]
  },
  {
   "cell_type": "markdown",
   "metadata": {},
   "source": [
    "For Arch2 city and phone have the highest contribution"
   ]
  },
  {
   "cell_type": "code",
   "execution_count": 23,
   "metadata": {},
   "outputs": [
    {
     "data": {
      "text/plain": [
       "cityastapor                 25.1874\n",
       "phoneandroid                15.1787\n",
       "phone                       11.0437\n",
       "ultimate_black_user         9.24378\n",
       "weekday_pct                 1.91173\n",
       "signup_date                0.126644\n",
       "avg_rating_of_driver       0.117885\n",
       "avg_rating_by_driver       0.103106\n",
       "avg_dist                    0.01711\n",
       "avg_surge                -0.0135219\n",
       "trips_in_first_30_days   -0.0540997\n",
       "surge_pct                 -0.129122\n",
       "last_trip_date             -1.93329\n",
       "citykings_landing          -1.99329\n",
       "retained                   -6.42487\n",
       "phoneiphone                -10.0308\n",
       "citywinterfell             -12.6277\n",
       "Name: 2, dtype: object"
      ]
     },
     "execution_count": 23,
     "metadata": {},
     "output_type": "execute_result"
    }
   ],
   "source": [
    "ultimate_y.as_data_frame().iloc[2,1:].sort_values(ascending=False)"
   ]
  },
  {
   "cell_type": "markdown",
   "metadata": {},
   "source": [
    "For Arch3 city and phone and being a an Ultimate Black customer"
   ]
  },
  {
   "cell_type": "code",
   "execution_count": 24,
   "metadata": {},
   "outputs": [
    {
     "data": {
      "text/plain": [
       "phoneiphone                  12.0425\n",
       "cityastapor                  3.86179\n",
       "weekday_pct                  2.09663\n",
       "citywinterfell               0.65295\n",
       "avg_dist                   0.0363084\n",
       "avg_rating_by_driver       0.0190074\n",
       "signup_date               0.00702292\n",
       "avg_rating_of_driver      -0.0188592\n",
       "avg_surge                 -0.0191835\n",
       "trips_in_first_30_days    -0.0497692\n",
       "surge_pct                  -0.213201\n",
       "last_trip_date              -1.84094\n",
       "phoneandroid                -13.0606\n",
       "ultimate_black_user         -13.1817\n",
       "phone                       -14.3255\n",
       "citykings_landing           -16.5024\n",
       "retained                    -17.6685\n",
       "Name: 3, dtype: object"
      ]
     },
     "execution_count": 24,
     "metadata": {},
     "output_type": "execute_result"
    }
   ],
   "source": [
    "ultimate_y.as_data_frame().iloc[3,1:].sort_values(ascending=False)"
   ]
  },
  {
   "cell_type": "code",
   "execution_count": 25,
   "metadata": {},
   "outputs": [
    {
     "data": {
      "text/plain": [
       "retained                     7.26885\n",
       "phone                        7.15771\n",
       "phoneandroid                 5.00136\n",
       "cityastapor                  4.94073\n",
       "weekday_pct                  1.94549\n",
       "citykings_landing            1.89969\n",
       "last_trip_date               1.20849\n",
       "phoneiphone                  1.10393\n",
       "signup_date                 0.159078\n",
       "surge_pct                  0.0973961\n",
       "avg_surge                 0.00838587\n",
       "trips_in_first_30_days    0.00681802\n",
       "avg_rating_of_driver      -0.0079745\n",
       "avg_rating_by_driver      -0.0152847\n",
       "avg_dist                  -0.0177997\n",
       "citywinterfell             -0.312369\n",
       "ultimate_black_user         -31.0764\n",
       "Name: 4, dtype: object"
      ]
     },
     "execution_count": 25,
     "metadata": {},
     "output_type": "execute_result"
    }
   ],
   "source": [
    "ultimate_y.as_data_frame().iloc[4,1:].sort_values(ascending=False)"
   ]
  },
  {
   "cell_type": "code",
   "execution_count": 26,
   "metadata": {},
   "outputs": [
    {
     "data": {
      "text/plain": [
       "retained                    13.6622\n",
       "cityastapor                 6.97175\n",
       "last_trip_date               4.1127\n",
       "ultimate_black_user          3.3858\n",
       "citywinterfell              2.35338\n",
       "surge_pct                   0.14341\n",
       "signup_date                 0.13982\n",
       "trips_in_first_30_days    0.0860534\n",
       "avg_surge                 0.0147464\n",
       "avg_dist                 -0.0746144\n",
       "avg_rating_by_driver      -0.114025\n",
       "avg_rating_of_driver      -0.116636\n",
       "phoneandroid              -0.957501\n",
       "weekday_pct                -1.37528\n",
       "phoneiphone                -3.45598\n",
       "phone                       -8.9851\n",
       "citykings_landing          -16.4334\n",
       "Name: 5, dtype: object"
      ]
     },
     "execution_count": 26,
     "metadata": {},
     "output_type": "execute_result"
    }
   ],
   "source": [
    "ultimate_y.as_data_frame().iloc[5,1:].sort_values(ascending=False)"
   ]
  },
  {
   "cell_type": "markdown",
   "metadata": {},
   "source": [
    "The take away is that based on the above I would use the columns ultimate_black_user, city, phone and maybe weekday_pct to predict whether a customer will be retained in the future."
   ]
  },
  {
   "cell_type": "code",
   "execution_count": 27,
   "metadata": {},
   "outputs": [
    {
     "name": "stdout",
     "output_type": "stream",
     "text": [
      "H2O session _sid_a7ef closed.\n"
     ]
    }
   ],
   "source": [
    "h2o.cluster().shutdown()"
   ]
  }
 ],
 "metadata": {
  "kernelspec": {
   "display_name": "Python 3",
   "language": "python",
   "name": "python3"
  },
  "language_info": {
   "codemirror_mode": {
    "name": "ipython",
    "version": 3
   },
   "file_extension": ".py",
   "mimetype": "text/x-python",
   "name": "python",
   "nbconvert_exporter": "python",
   "pygments_lexer": "ipython3",
   "version": "3.6.7"
  }
 },
 "nbformat": 4,
 "nbformat_minor": 2
}
