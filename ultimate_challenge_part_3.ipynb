{
 "cells": [
  {
   "cell_type": "markdown",
   "metadata": {},
   "source": [
    "# Part 3 ‑ Predictive modeling\n",
    "Perform any cleaning, exploratory analysis, and/or visualizations to use the provided\n",
    "data for this analysis (a few sentences/plots describing your approach will suffice). What\n",
    "fraction of the observed users were retained?"
   ]
  },
  {
   "cell_type": "code",
   "execution_count": 259,
   "metadata": {},
   "outputs": [],
   "source": [
    "import json\n",
    "from pandas.io.json import json_normalize\n",
    "import pandas as pd\n",
    "import numpy\n",
    "import h2o\n",
    "from h2o.estimators.glrm import H2OGeneralizedLowRankEstimator\n",
    "import matplotlib.pyplot as plt\n",
    "from sklearn.metrics import confusion_matrix, accuracy_score, classification_report, roc_curve, auc"
   ]
  },
  {
   "cell_type": "code",
   "execution_count": 260,
   "metadata": {},
   "outputs": [],
   "source": [
    "with open('ultimate_data_challenge.json') as logins_file:\n",
    "    logins_string = json.load(logins_file)\n",
    "    user_data_df = json_normalize(logins_string)"
   ]
  },
  {
   "cell_type": "code",
   "execution_count": 3,
   "metadata": {},
   "outputs": [
    {
     "name": "stdout",
     "output_type": "stream",
     "text": [
      "<class 'pandas.core.frame.DataFrame'>\n",
      "RangeIndex: 50000 entries, 0 to 49999\n",
      "Data columns (total 12 columns):\n",
      "city                      50000 non-null object\n",
      "trips_in_first_30_days    50000 non-null int64\n",
      "signup_date               50000 non-null object\n",
      "avg_rating_of_driver      41878 non-null float64\n",
      "avg_surge                 50000 non-null float64\n",
      "last_trip_date            50000 non-null object\n",
      "phone                     49604 non-null object\n",
      "surge_pct                 50000 non-null float64\n",
      "ultimate_black_user       50000 non-null bool\n",
      "weekday_pct               50000 non-null float64\n",
      "avg_dist                  50000 non-null float64\n",
      "avg_rating_by_driver      49799 non-null float64\n",
      "dtypes: bool(1), float64(6), int64(1), object(4)\n",
      "memory usage: 4.2+ MB\n"
     ]
    }
   ],
   "source": [
    "user_data_df.info()"
   ]
  },
  {
   "cell_type": "markdown",
   "metadata": {},
   "source": [
    "Two points become evident when looking at the above. Three columns have null values and that signup_date and last_trip_date are not in datetime format. Let's convert signup_date and last_trip_date to datetime format."
   ]
  },
  {
   "cell_type": "code",
   "execution_count": 4,
   "metadata": {},
   "outputs": [],
   "source": [
    "user_data_df['signup_date'] = pd.to_datetime(user_data_df['signup_date'])\n",
    "user_data_df['last_trip_date'] = pd.to_datetime(user_data_df['last_trip_date'])"
   ]
  },
  {
   "cell_type": "code",
   "execution_count": 5,
   "metadata": {},
   "outputs": [
    {
     "name": "stdout",
     "output_type": "stream",
     "text": [
      "<class 'pandas.core.frame.DataFrame'>\n",
      "RangeIndex: 50000 entries, 0 to 49999\n",
      "Data columns (total 12 columns):\n",
      "city                      50000 non-null object\n",
      "trips_in_first_30_days    50000 non-null int64\n",
      "signup_date               50000 non-null datetime64[ns]\n",
      "avg_rating_of_driver      41878 non-null float64\n",
      "avg_surge                 50000 non-null float64\n",
      "last_trip_date            50000 non-null datetime64[ns]\n",
      "phone                     49604 non-null object\n",
      "surge_pct                 50000 non-null float64\n",
      "ultimate_black_user       50000 non-null bool\n",
      "weekday_pct               50000 non-null float64\n",
      "avg_dist                  50000 non-null float64\n",
      "avg_rating_by_driver      49799 non-null float64\n",
      "dtypes: bool(1), datetime64[ns](2), float64(6), int64(1), object(2)\n",
      "memory usage: 4.2+ MB\n"
     ]
    }
   ],
   "source": [
    "user_data_df.info()"
   ]
  },
  {
   "cell_type": "markdown",
   "metadata": {},
   "source": [
    "Replace null values with mean"
   ]
  },
  {
   "cell_type": "code",
   "execution_count": 56,
   "metadata": {},
   "outputs": [
    {
     "name": "stdout",
     "output_type": "stream",
     "text": [
      "<class 'pandas.core.frame.DataFrame'>\n",
      "RangeIndex: 50000 entries, 0 to 49999\n",
      "Data columns (total 12 columns):\n",
      "city                      50000 non-null object\n",
      "trips_in_first_30_days    50000 non-null int64\n",
      "signup_date               50000 non-null datetime64[ns]\n",
      "avg_rating_of_driver      50000 non-null float64\n",
      "avg_surge                 50000 non-null float64\n",
      "last_trip_date            50000 non-null datetime64[ns]\n",
      "phone                     49604 non-null object\n",
      "surge_pct                 50000 non-null float64\n",
      "ultimate_black_user       50000 non-null bool\n",
      "weekday_pct               50000 non-null float64\n",
      "avg_dist                  50000 non-null float64\n",
      "avg_rating_by_driver      50000 non-null float64\n",
      "dtypes: bool(1), datetime64[ns](2), float64(6), int64(1), object(2)\n",
      "memory usage: 4.2+ MB\n"
     ]
    }
   ],
   "source": [
    "user_data_df['avg_rating_of_driver'].fillna(user_data_df['avg_rating_of_driver'].mean(), inplace=True)\n",
    "user_data_df['avg_rating_by_driver'].fillna(user_data_df['avg_rating_by_driver'].mean(), inplace=True)\n",
    "user_data_df.info()"
   ]
  },
  {
   "cell_type": "markdown",
   "metadata": {},
   "source": [
    "Now we can define the retained column by checking if a user had a trip in the past 30 days. The issue is that the date that the data was pulled is not mentioned so the best we can do is to assume that the date the data was pulled is the same as the last date that a user travelled. Therefore let us look at the last_trip_date column of the dataset "
   ]
  },
  {
   "cell_type": "code",
   "execution_count": 6,
   "metadata": {},
   "outputs": [
    {
     "data": {
      "text/plain": [
       "count                   50000\n",
       "unique                    182\n",
       "top       2014-06-29 00:00:00\n",
       "freq                     2036\n",
       "first     2014-01-01 00:00:00\n",
       "last      2014-07-01 00:00:00\n",
       "Name: last_trip_date, dtype: object"
      ]
     },
     "execution_count": 6,
     "metadata": {},
     "output_type": "execute_result"
    }
   ],
   "source": [
    "user_data_df['last_trip_date'].describe()"
   ]
  },
  {
   "cell_type": "markdown",
   "metadata": {},
   "source": [
    "As June is 30 days we will consider a user to be active/retained if that user had a trip in June 2014 or July 2014 ( need to include boundry case 2014-07-01 00:00:00 )"
   ]
  },
  {
   "cell_type": "code",
   "execution_count": 7,
   "metadata": {},
   "outputs": [
    {
     "data": {
      "text/html": [
       "<div>\n",
       "<style scoped>\n",
       "    .dataframe tbody tr th:only-of-type {\n",
       "        vertical-align: middle;\n",
       "    }\n",
       "\n",
       "    .dataframe tbody tr th {\n",
       "        vertical-align: top;\n",
       "    }\n",
       "\n",
       "    .dataframe thead th {\n",
       "        text-align: right;\n",
       "    }\n",
       "</style>\n",
       "<table border=\"1\" class=\"dataframe\">\n",
       "  <thead>\n",
       "    <tr style=\"text-align: right;\">\n",
       "      <th></th>\n",
       "      <th>city</th>\n",
       "      <th>trips_in_first_30_days</th>\n",
       "      <th>signup_date</th>\n",
       "      <th>avg_rating_of_driver</th>\n",
       "      <th>avg_surge</th>\n",
       "      <th>last_trip_date</th>\n",
       "      <th>phone</th>\n",
       "      <th>surge_pct</th>\n",
       "      <th>ultimate_black_user</th>\n",
       "      <th>weekday_pct</th>\n",
       "      <th>avg_dist</th>\n",
       "      <th>avg_rating_by_driver</th>\n",
       "      <th>retained</th>\n",
       "    </tr>\n",
       "  </thead>\n",
       "  <tbody>\n",
       "    <tr>\n",
       "      <td>0</td>\n",
       "      <td>King's Landing</td>\n",
       "      <td>4</td>\n",
       "      <td>2014-01-25</td>\n",
       "      <td>4.7</td>\n",
       "      <td>1.10</td>\n",
       "      <td>2014-06-17</td>\n",
       "      <td>iPhone</td>\n",
       "      <td>15.4</td>\n",
       "      <td>True</td>\n",
       "      <td>46.2</td>\n",
       "      <td>3.67</td>\n",
       "      <td>5.0</td>\n",
       "      <td>True</td>\n",
       "    </tr>\n",
       "    <tr>\n",
       "      <td>1</td>\n",
       "      <td>Astapor</td>\n",
       "      <td>0</td>\n",
       "      <td>2014-01-29</td>\n",
       "      <td>5.0</td>\n",
       "      <td>1.00</td>\n",
       "      <td>2014-05-05</td>\n",
       "      <td>Android</td>\n",
       "      <td>0.0</td>\n",
       "      <td>False</td>\n",
       "      <td>50.0</td>\n",
       "      <td>8.26</td>\n",
       "      <td>5.0</td>\n",
       "      <td>False</td>\n",
       "    </tr>\n",
       "    <tr>\n",
       "      <td>2</td>\n",
       "      <td>Astapor</td>\n",
       "      <td>3</td>\n",
       "      <td>2014-01-06</td>\n",
       "      <td>4.3</td>\n",
       "      <td>1.00</td>\n",
       "      <td>2014-01-07</td>\n",
       "      <td>iPhone</td>\n",
       "      <td>0.0</td>\n",
       "      <td>False</td>\n",
       "      <td>100.0</td>\n",
       "      <td>0.77</td>\n",
       "      <td>5.0</td>\n",
       "      <td>False</td>\n",
       "    </tr>\n",
       "    <tr>\n",
       "      <td>3</td>\n",
       "      <td>King's Landing</td>\n",
       "      <td>9</td>\n",
       "      <td>2014-01-10</td>\n",
       "      <td>4.6</td>\n",
       "      <td>1.14</td>\n",
       "      <td>2014-06-29</td>\n",
       "      <td>iPhone</td>\n",
       "      <td>20.0</td>\n",
       "      <td>True</td>\n",
       "      <td>80.0</td>\n",
       "      <td>2.36</td>\n",
       "      <td>4.9</td>\n",
       "      <td>True</td>\n",
       "    </tr>\n",
       "    <tr>\n",
       "      <td>4</td>\n",
       "      <td>Winterfell</td>\n",
       "      <td>14</td>\n",
       "      <td>2014-01-27</td>\n",
       "      <td>4.4</td>\n",
       "      <td>1.19</td>\n",
       "      <td>2014-03-15</td>\n",
       "      <td>Android</td>\n",
       "      <td>11.8</td>\n",
       "      <td>False</td>\n",
       "      <td>82.4</td>\n",
       "      <td>3.13</td>\n",
       "      <td>4.9</td>\n",
       "      <td>False</td>\n",
       "    </tr>\n",
       "  </tbody>\n",
       "</table>\n",
       "</div>"
      ],
      "text/plain": [
       "             city  trips_in_first_30_days signup_date  avg_rating_of_driver  \\\n",
       "0  King's Landing                       4  2014-01-25                   4.7   \n",
       "1         Astapor                       0  2014-01-29                   5.0   \n",
       "2         Astapor                       3  2014-01-06                   4.3   \n",
       "3  King's Landing                       9  2014-01-10                   4.6   \n",
       "4      Winterfell                      14  2014-01-27                   4.4   \n",
       "\n",
       "   avg_surge last_trip_date    phone  surge_pct  ultimate_black_user  \\\n",
       "0       1.10     2014-06-17   iPhone       15.4                 True   \n",
       "1       1.00     2014-05-05  Android        0.0                False   \n",
       "2       1.00     2014-01-07   iPhone        0.0                False   \n",
       "3       1.14     2014-06-29   iPhone       20.0                 True   \n",
       "4       1.19     2014-03-15  Android       11.8                False   \n",
       "\n",
       "   weekday_pct  avg_dist  avg_rating_by_driver  retained  \n",
       "0         46.2      3.67                   5.0      True  \n",
       "1         50.0      8.26                   5.0     False  \n",
       "2        100.0      0.77                   5.0     False  \n",
       "3         80.0      2.36                   4.9      True  \n",
       "4         82.4      3.13                   4.9     False  "
      ]
     },
     "execution_count": 7,
     "metadata": {},
     "output_type": "execute_result"
    }
   ],
   "source": [
    "user_data_df['retained'] = user_data_df['last_trip_date'].dt.month >= 6\n",
    "user_data_df.head()"
   ]
  },
  {
   "cell_type": "code",
   "execution_count": 8,
   "metadata": {},
   "outputs": [
    {
     "name": "stdout",
     "output_type": "stream",
     "text": [
      "Checking whether there is an H2O instance running at http://localhost:54321 ..... not found.\n",
      "Attempting to start a local H2O server...\n",
      "; Java HotSpot(TM) 64-Bit Server VM (build 25.211-b12, mixed mode)\n",
      "  Starting server from C:\\Users\\farbo\\Anaconda3\\lib\\site-packages\\h2o\\backend\\bin\\h2o.jar\n",
      "  Ice root: C:\\Users\\farbo\\AppData\\Local\\Temp\\tmp3u84mz15\n",
      "  JVM stdout: C:\\Users\\farbo\\AppData\\Local\\Temp\\tmp3u84mz15\\h2o_farbo_started_from_python.out\n",
      "  JVM stderr: C:\\Users\\farbo\\AppData\\Local\\Temp\\tmp3u84mz15\\h2o_farbo_started_from_python.err\n",
      "  Server is running at http://127.0.0.1:54321\n",
      "Connecting to H2O server at http://127.0.0.1:54321 ... successful.\n"
     ]
    },
    {
     "data": {
      "text/html": [
       "<div style=\"overflow:auto\"><table style=\"width:50%\"><tr><td>H2O cluster uptime:</td>\n",
       "<td>04 secs</td></tr>\n",
       "<tr><td>H2O cluster timezone:</td>\n",
       "<td>America/Los_Angeles</td></tr>\n",
       "<tr><td>H2O data parsing timezone:</td>\n",
       "<td>UTC</td></tr>\n",
       "<tr><td>H2O cluster version:</td>\n",
       "<td>3.26.0.4</td></tr>\n",
       "<tr><td>H2O cluster version age:</td>\n",
       "<td>3 days </td></tr>\n",
       "<tr><td>H2O cluster name:</td>\n",
       "<td>H2O_from_python_farbo_15ahdg</td></tr>\n",
       "<tr><td>H2O cluster total nodes:</td>\n",
       "<td>1</td></tr>\n",
       "<tr><td>H2O cluster free memory:</td>\n",
       "<td>1.745 Gb</td></tr>\n",
       "<tr><td>H2O cluster total cores:</td>\n",
       "<td>8</td></tr>\n",
       "<tr><td>H2O cluster allowed cores:</td>\n",
       "<td>8</td></tr>\n",
       "<tr><td>H2O cluster status:</td>\n",
       "<td>accepting new members, healthy</td></tr>\n",
       "<tr><td>H2O connection url:</td>\n",
       "<td>http://127.0.0.1:54321</td></tr>\n",
       "<tr><td>H2O connection proxy:</td>\n",
       "<td>None</td></tr>\n",
       "<tr><td>H2O internal security:</td>\n",
       "<td>False</td></tr>\n",
       "<tr><td>H2O API Extensions:</td>\n",
       "<td>Amazon S3, Algos, AutoML, Core V3, TargetEncoder, Core V4</td></tr>\n",
       "<tr><td>Python version:</td>\n",
       "<td>3.6.7 final</td></tr></table></div>"
      ],
      "text/plain": [
       "--------------------------  ---------------------------------------------------------\n",
       "H2O cluster uptime:         04 secs\n",
       "H2O cluster timezone:       America/Los_Angeles\n",
       "H2O data parsing timezone:  UTC\n",
       "H2O cluster version:        3.26.0.4\n",
       "H2O cluster version age:    3 days\n",
       "H2O cluster name:           H2O_from_python_farbo_15ahdg\n",
       "H2O cluster total nodes:    1\n",
       "H2O cluster free memory:    1.745 Gb\n",
       "H2O cluster total cores:    8\n",
       "H2O cluster allowed cores:  8\n",
       "H2O cluster status:         accepting new members, healthy\n",
       "H2O connection url:         http://127.0.0.1:54321\n",
       "H2O connection proxy:\n",
       "H2O internal security:      False\n",
       "H2O API Extensions:         Amazon S3, Algos, AutoML, Core V3, TargetEncoder, Core V4\n",
       "Python version:             3.6.7 final\n",
       "--------------------------  ---------------------------------------------------------"
      ]
     },
     "metadata": {},
     "output_type": "display_data"
    }
   ],
   "source": [
    "h2o.init()"
   ]
  },
  {
   "cell_type": "code",
   "execution_count": 9,
   "metadata": {},
   "outputs": [],
   "source": [
    "h2o.remove_all()"
   ]
  },
  {
   "cell_type": "code",
   "execution_count": 10,
   "metadata": {},
   "outputs": [
    {
     "name": "stdout",
     "output_type": "stream",
     "text": [
      "Parse progress: |█████████████████████████████████████████████████████████| 100%\n"
     ]
    }
   ],
   "source": [
    "hf = h2o.H2OFrame(user_data_df)"
   ]
  },
  {
   "cell_type": "code",
   "execution_count": 11,
   "metadata": {},
   "outputs": [
    {
     "name": "stdout",
     "output_type": "stream",
     "text": [
      "Rows:50000\n",
      "Cols:13\n",
      "\n",
      "\n"
     ]
    },
    {
     "data": {
      "text/html": [
       "<table>\n",
       "<thead>\n",
       "<tr><th>       </th><th>city          </th><th>trips_in_first_30_days  </th><th>signup_date        </th><th>avg_rating_of_driver  </th><th>avg_surge         </th><th>last_trip_date     </th><th>phone  </th><th>surge_pct         </th><th>ultimate_black_user  </th><th>weekday_pct       </th><th>avg_dist         </th><th>avg_rating_by_driver  </th><th>retained  </th></tr>\n",
       "</thead>\n",
       "<tbody>\n",
       "<tr><td>type   </td><td>enum          </td><td>int                     </td><td>time               </td><td>real                  </td><td>real              </td><td>time               </td><td>enum   </td><td>real              </td><td>enum                 </td><td>real              </td><td>real             </td><td>real                  </td><td>enum      </td></tr>\n",
       "<tr><td>mins   </td><td>              </td><td>0.0                     </td><td>1388534400000.0    </td><td>1.0                   </td><td>1.0               </td><td>1388534400000.0    </td><td>       </td><td>0.0               </td><td>                     </td><td>0.0               </td><td>0.0              </td><td>1.0                   </td><td>          </td></tr>\n",
       "<tr><td>mean   </td><td>              </td><td>2.278199999999998       </td><td>1389877460352.002  </td><td>4.601559291274633     </td><td>1.0747638000000022</td><td>1397894524991.993  </td><td>       </td><td>8.849535999999942 </td><td>                     </td><td>60.92608399999982 </td><td>5.796826600000038</td><td>4.778158195947728     </td><td>          </td></tr>\n",
       "<tr><td>maxs   </td><td>              </td><td>125.0                   </td><td>1391126400000.0    </td><td>5.0                   </td><td>8.0               </td><td>1404172800000.0    </td><td>       </td><td>100.0             </td><td>                     </td><td>100.0             </td><td>160.96           </td><td>5.0                   </td><td>          </td></tr>\n",
       "<tr><td>sigma  </td><td>              </td><td>3.7926840692376356      </td><td>756364650.5215249  </td><td>0.6173384560411358    </td><td>0.2223360089494666</td><td>5332520288.309384  </td><td>       </td><td>19.958810898131006</td><td>                     </td><td>37.081503405105295</td><td>5.707356703233388</td><td>0.44665179346562056   </td><td>          </td></tr>\n",
       "<tr><td>zeros  </td><td>              </td><td>15390                   </td><td>0                  </td><td>0                     </td><td>0                 </td><td>0                  </td><td>       </td><td>34409             </td><td>                     </td><td>9203              </td><td>150              </td><td>0                     </td><td>          </td></tr>\n",
       "<tr><td>missing</td><td>0             </td><td>0                       </td><td>0                  </td><td>8122                  </td><td>0                 </td><td>0                  </td><td>0      </td><td>0                 </td><td>0                    </td><td>0                 </td><td>0                </td><td>201                   </td><td>0         </td></tr>\n",
       "<tr><td>0      </td><td>King's Landing</td><td>4.0                     </td><td>2014-01-25 00:00:00</td><td>4.7                   </td><td>1.1               </td><td>2014-06-17 00:00:00</td><td>iPhone </td><td>15.4              </td><td>True                 </td><td>46.2              </td><td>3.67             </td><td>5.0                   </td><td>True      </td></tr>\n",
       "<tr><td>1      </td><td>Astapor       </td><td>0.0                     </td><td>2014-01-29 00:00:00</td><td>5.0                   </td><td>1.0               </td><td>2014-05-05 00:00:00</td><td>Android</td><td>0.0               </td><td>False                </td><td>50.0              </td><td>8.26             </td><td>5.0                   </td><td>False     </td></tr>\n",
       "<tr><td>2      </td><td>Astapor       </td><td>3.0                     </td><td>2014-01-06 00:00:00</td><td>4.3                   </td><td>1.0               </td><td>2014-01-07 00:00:00</td><td>iPhone </td><td>0.0               </td><td>False                </td><td>100.0             </td><td>0.77             </td><td>5.0                   </td><td>False     </td></tr>\n",
       "<tr><td>3      </td><td>King's Landing</td><td>9.0                     </td><td>2014-01-10 00:00:00</td><td>4.6                   </td><td>1.14              </td><td>2014-06-29 00:00:00</td><td>iPhone </td><td>20.0              </td><td>True                 </td><td>80.0              </td><td>2.36             </td><td>4.9                   </td><td>True      </td></tr>\n",
       "<tr><td>4      </td><td>Winterfell    </td><td>14.0                    </td><td>2014-01-27 00:00:00</td><td>4.4                   </td><td>1.19              </td><td>2014-03-15 00:00:00</td><td>Android</td><td>11.8              </td><td>False                </td><td>82.4              </td><td>3.13             </td><td>4.9                   </td><td>False     </td></tr>\n",
       "<tr><td>5      </td><td>Winterfell    </td><td>2.0                     </td><td>2014-01-09 00:00:00</td><td>3.5                   </td><td>1.0               </td><td>2014-06-06 00:00:00</td><td>iPhone </td><td>0.0               </td><td>True                 </td><td>100.0             </td><td>10.56            </td><td>5.0                   </td><td>True      </td></tr>\n",
       "<tr><td>6      </td><td>Astapor       </td><td>1.0                     </td><td>2014-01-24 00:00:00</td><td>nan                   </td><td>1.0               </td><td>2014-01-25 00:00:00</td><td>Android</td><td>0.0               </td><td>False                </td><td>100.0             </td><td>3.95             </td><td>4.0                   </td><td>False     </td></tr>\n",
       "<tr><td>7      </td><td>Winterfell    </td><td>2.0                     </td><td>2014-01-28 00:00:00</td><td>5.0                   </td><td>1.0               </td><td>2014-01-29 00:00:00</td><td>iPhone </td><td>0.0               </td><td>False                </td><td>100.0             </td><td>2.04             </td><td>5.0                   </td><td>False     </td></tr>\n",
       "<tr><td>8      </td><td>Winterfell    </td><td>2.0                     </td><td>2014-01-21 00:00:00</td><td>4.5                   </td><td>1.0               </td><td>2014-02-01 00:00:00</td><td>Android</td><td>0.0               </td><td>False                </td><td>100.0             </td><td>4.36             </td><td>5.0                   </td><td>False     </td></tr>\n",
       "<tr><td>9      </td><td>Winterfell    </td><td>1.0                     </td><td>2014-01-03 00:00:00</td><td>nan                   </td><td>1.0               </td><td>2014-01-05 00:00:00</td><td>Android</td><td>0.0               </td><td>False                </td><td>0.0               </td><td>2.37             </td><td>5.0                   </td><td>False     </td></tr>\n",
       "</tbody>\n",
       "</table>"
      ]
     },
     "metadata": {},
     "output_type": "display_data"
    }
   ],
   "source": [
    "hf.describe()"
   ]
  },
  {
   "cell_type": "code",
   "execution_count": 279,
   "metadata": {},
   "outputs": [],
   "source": [
    "train, test = hf.split_frame(ratios=[0.85], seed=1234)"
   ]
  },
  {
   "cell_type": "code",
   "execution_count": 287,
   "metadata": {},
   "outputs": [],
   "source": [
    "model = H2OGeneralizedLowRankEstimator(k=5, init=\"svd\", svd_method = \"power\", loss=\"quadratic\"\n",
    "                                       , regularization_x=\"l2\", regularization_y=\"l2\", max_iterations=2000, gamma_x=2\n",
    "                                       , gamma_y=1, impute_original=True, score_each_iteration=True, transform=\"normalize\"\n",
    "                                       , min_step_size=1e-5, loss_by_col=['categorical','categorical','logistic','logistic']\n",
    "                                       , loss_by_col_idx=[0,6,8,12])"
   ]
  },
  {
   "cell_type": "code",
   "execution_count": 288,
   "metadata": {},
   "outputs": [
    {
     "name": "stdout",
     "output_type": "stream",
     "text": [
      "glrm Model Build progress: |██████████████████████████████████████████████| 100%\n"
     ]
    }
   ],
   "source": [
    "model.train(x=hf.columns, training_frame=train)"
   ]
  },
  {
   "cell_type": "code",
   "execution_count": 289,
   "metadata": {},
   "outputs": [
    {
     "data": {
      "image/png": "[encoded data removed]",
      "text/plain": [
       "<Figure size 432x288 with 1 Axes>"
      ]
     },
     "metadata": {
      "needs_background": "light"
     },
     "output_type": "display_data"
    }
   ],
   "source": [
    "model_score = model.score_history()\n",
    "plt.xlabel(\"Iteration\")\n",
    "plt.ylabel(\"Objective\")\n",
    "plt.title(\"Objective Function Value per Iteration\")\n",
    "plt.plot(model_score[\"iterations\"], model_score[\"objective\"])\n",
    "plt.show()"
   ]
  },
  {
   "cell_type": "code",
   "execution_count": 290,
   "metadata": {},
   "outputs": [
    {
     "name": "stdout",
     "output_type": "stream",
     "text": [
      "glrm prediction progress: |███████████████████████████████████████████████| 100%\n"
     ]
    }
   ],
   "source": [
    "new_test = h2o.deep_copy(test, 'new_test')\n",
    "new_test[\"retained\"] = numpy.NaN\n",
    "pred = model.predict(new_test)\n",
    "pred['reconstr_retained'] = pred['reconstr_retained'].asfactor()"
   ]
  },
  {
   "cell_type": "code",
   "execution_count": 291,
   "metadata": {},
   "outputs": [
    {
     "name": "stdout",
     "output_type": "stream",
     "text": [
      "[[4048  559]\n",
      " [ 583 2357]]\n",
      "0.848681595335895\n",
      "              precision    recall  f1-score   support\n",
      "\n",
      "       False       0.87      0.88      0.88      4607\n",
      "        True       0.81      0.80      0.80      2940\n",
      "\n",
      "    accuracy                           0.85      7547\n",
      "   macro avg       0.84      0.84      0.84      7547\n",
      "weighted avg       0.85      0.85      0.85      7547\n",
      "\n"
     ]
    },
    {
     "data": {
      "image/png": "[encoded data removed]",
      "text/plain": [
       "<Figure size 432x288 with 1 Axes>"
      ]
     },
     "metadata": {
      "needs_background": "light"
     },
     "output_type": "display_data"
    }
   ],
   "source": [
    "print(confusion_matrix(test.as_data_frame()['retained'], pred.as_data_frame()['reconstr_retained']))\n",
    "print(accuracy_score(test.as_data_frame()['retained'], pred.as_data_frame()['reconstr_retained']))\n",
    "print(classification_report(test.as_data_frame()['retained'], pred.as_data_frame()['reconstr_retained']))\n",
    "fpr, tpr, thresholds = roc_curve(test.as_data_frame()['retained'], pred.as_data_frame()['reconstr_retained'])\n",
    "plt.figure()\n",
    "plt.plot(fpr, tpr, color='darkorange', lw=2, label='ROC curve (area = %0.2f)' % auc(fpr, tpr))\n",
    "plt.plot([0, 1], [0, 1], color='navy', lw=2, linestyle='--')\n",
    "plt.xlim([0.0, 1.0])\n",
    "plt.ylim([0.0, 1.05])\n",
    "plt.xlabel('False Positive Rate')\n",
    "plt.ylabel('True Positive Rate')\n",
    "plt.title('Receiver operating characteristic example')\n",
    "plt.legend(loc=\"lower right\")\n",
    "plt.show()"
   ]
  },
  {
   "cell_type": "code",
   "execution_count": 228,
   "metadata": {},
   "outputs": [
    {
     "name": "stdout",
     "output_type": "stream",
     "text": [
      "\n",
      "Archetypes: "
     ]
    },
    {
     "data": {
      "text/html": [
       "<div>\n",
       "<style scoped>\n",
       "    .dataframe tbody tr th:only-of-type {\n",
       "        vertical-align: middle;\n",
       "    }\n",
       "\n",
       "    .dataframe tbody tr th {\n",
       "        vertical-align: top;\n",
       "    }\n",
       "\n",
       "    .dataframe thead th {\n",
       "        text-align: right;\n",
       "    }\n",
       "</style>\n",
       "<table border=\"1\" class=\"dataframe\">\n",
       "  <thead>\n",
       "    <tr style=\"text-align: right;\">\n",
       "      <th></th>\n",
       "      <th></th>\n",
       "      <th>cityastapor</th>\n",
       "      <th>citykings_landing</th>\n",
       "      <th>citywinterfell</th>\n",
       "      <th>phone</th>\n",
       "      <th>phoneandroid</th>\n",
       "      <th>phoneiphone</th>\n",
       "      <th>ultimate_black_userfalse</th>\n",
       "      <th>ultimate_black_usertrue</th>\n",
       "      <th>retained</th>\n",
       "      <th>trips_in_first_30_days</th>\n",
       "      <th>signup_date</th>\n",
       "      <th>avg_rating_of_driver</th>\n",
       "      <th>avg_surge</th>\n",
       "      <th>last_trip_date</th>\n",
       "      <th>surge_pct</th>\n",
       "      <th>weekday_pct</th>\n",
       "      <th>avg_dist</th>\n",
       "      <th>avg_rating_by_driver</th>\n",
       "    </tr>\n",
       "  </thead>\n",
       "  <tbody>\n",
       "    <tr>\n",
       "      <td>0</td>\n",
       "      <td>Arch1</td>\n",
       "      <td>-1.884293</td>\n",
       "      <td>7.250536</td>\n",
       "      <td>-2.147563</td>\n",
       "      <td>10.047036</td>\n",
       "      <td>6.133659</td>\n",
       "      <td>-11.105634</td>\n",
       "      <td>-4.116744</td>\n",
       "      <td>2.534823</td>\n",
       "      <td>-20.412744</td>\n",
       "      <td>-0.054344</td>\n",
       "      <td>-0.096764</td>\n",
       "      <td>0.020781</td>\n",
       "      <td>0.004287</td>\n",
       "      <td>-2.040883</td>\n",
       "      <td>0.008427</td>\n",
       "      <td>-0.457096</td>\n",
       "      <td>0.028382</td>\n",
       "      <td>0.029344</td>\n",
       "    </tr>\n",
       "    <tr>\n",
       "      <td>1</td>\n",
       "      <td>Arch2</td>\n",
       "      <td>-0.520440</td>\n",
       "      <td>9.414119</td>\n",
       "      <td>-7.181597</td>\n",
       "      <td>3.848062</td>\n",
       "      <td>-13.824219</td>\n",
       "      <td>9.198750</td>\n",
       "      <td>-19.433132</td>\n",
       "      <td>20.843631</td>\n",
       "      <td>15.605579</td>\n",
       "      <td>0.042132</td>\n",
       "      <td>-0.074670</td>\n",
       "      <td>0.002981</td>\n",
       "      <td>-0.010655</td>\n",
       "      <td>0.425783</td>\n",
       "      <td>-0.087292</td>\n",
       "      <td>-0.183705</td>\n",
       "      <td>0.000435</td>\n",
       "      <td>0.016370</td>\n",
       "    </tr>\n",
       "    <tr>\n",
       "      <td>2</td>\n",
       "      <td>Arch3</td>\n",
       "      <td>15.236918</td>\n",
       "      <td>6.868532</td>\n",
       "      <td>-21.307060</td>\n",
       "      <td>-1.892772</td>\n",
       "      <td>-4.304598</td>\n",
       "      <td>5.333445</td>\n",
       "      <td>6.882003</td>\n",
       "      <td>-7.369487</td>\n",
       "      <td>-7.249476</td>\n",
       "      <td>-0.032726</td>\n",
       "      <td>0.172629</td>\n",
       "      <td>0.116065</td>\n",
       "      <td>0.024484</td>\n",
       "      <td>-0.232641</td>\n",
       "      <td>0.230504</td>\n",
       "      <td>-0.124645</td>\n",
       "      <td>-0.014361</td>\n",
       "      <td>0.086672</td>\n",
       "    </tr>\n",
       "    <tr>\n",
       "      <td>3</td>\n",
       "      <td>Arch4</td>\n",
       "      <td>-13.752858</td>\n",
       "      <td>2.461412</td>\n",
       "      <td>2.915072</td>\n",
       "      <td>-4.118225</td>\n",
       "      <td>-20.958610</td>\n",
       "      <td>15.474786</td>\n",
       "      <td>9.778890</td>\n",
       "      <td>-11.520139</td>\n",
       "      <td>-6.468441</td>\n",
       "      <td>-0.010070</td>\n",
       "      <td>-0.069586</td>\n",
       "      <td>0.000425</td>\n",
       "      <td>0.019712</td>\n",
       "      <td>-0.434468</td>\n",
       "      <td>0.165003</td>\n",
       "      <td>-0.664520</td>\n",
       "      <td>0.004904</td>\n",
       "      <td>0.012542</td>\n",
       "    </tr>\n",
       "    <tr>\n",
       "      <td>4</td>\n",
       "      <td>Arch5</td>\n",
       "      <td>-8.328286</td>\n",
       "      <td>19.876702</td>\n",
       "      <td>-8.025384</td>\n",
       "      <td>5.244694</td>\n",
       "      <td>9.613242</td>\n",
       "      <td>-8.033298</td>\n",
       "      <td>5.472399</td>\n",
       "      <td>-6.536563</td>\n",
       "      <td>19.014419</td>\n",
       "      <td>0.008420</td>\n",
       "      <td>0.049360</td>\n",
       "      <td>0.048110</td>\n",
       "      <td>0.019161</td>\n",
       "      <td>0.728496</td>\n",
       "      <td>0.194261</td>\n",
       "      <td>-0.162082</td>\n",
       "      <td>-0.011913</td>\n",
       "      <td>0.016592</td>\n",
       "    </tr>\n",
       "  </tbody>\n",
       "</table>\n",
       "</div>"
      ],
      "text/plain": [
       "          cityastapor  citykings_landing  citywinterfell      phone  \\\n",
       "0  Arch1    -1.884293           7.250536       -2.147563  10.047036   \n",
       "1  Arch2    -0.520440           9.414119       -7.181597   3.848062   \n",
       "2  Arch3    15.236918           6.868532      -21.307060  -1.892772   \n",
       "3  Arch4   -13.752858           2.461412        2.915072  -4.118225   \n",
       "4  Arch5    -8.328286          19.876702       -8.025384   5.244694   \n",
       "\n",
       "   phoneandroid  phoneiphone  ultimate_black_userfalse  \\\n",
       "0      6.133659   -11.105634                 -4.116744   \n",
       "1    -13.824219     9.198750                -19.433132   \n",
       "2     -4.304598     5.333445                  6.882003   \n",
       "3    -20.958610    15.474786                  9.778890   \n",
       "4      9.613242    -8.033298                  5.472399   \n",
       "\n",
       "   ultimate_black_usertrue   retained  trips_in_first_30_days  signup_date  \\\n",
       "0                 2.534823 -20.412744               -0.054344    -0.096764   \n",
       "1                20.843631  15.605579                0.042132    -0.074670   \n",
       "2                -7.369487  -7.249476               -0.032726     0.172629   \n",
       "3               -11.520139  -6.468441               -0.010070    -0.069586   \n",
       "4                -6.536563  19.014419                0.008420     0.049360   \n",
       "\n",
       "   avg_rating_of_driver  avg_surge  last_trip_date  surge_pct  weekday_pct  \\\n",
       "0              0.020781   0.004287       -2.040883   0.008427    -0.457096   \n",
       "1              0.002981  -0.010655        0.425783  -0.087292    -0.183705   \n",
       "2              0.116065   0.024484       -0.232641   0.230504    -0.124645   \n",
       "3              0.000425   0.019712       -0.434468   0.165003    -0.664520   \n",
       "4              0.048110   0.019161        0.728496   0.194261    -0.162082   \n",
       "\n",
       "   avg_dist  avg_rating_by_driver  \n",
       "0  0.028382              0.029344  \n",
       "1  0.000435              0.016370  \n",
       "2 -0.014361              0.086672  \n",
       "3  0.004904              0.012542  \n",
       "4 -0.011913              0.016592  "
      ]
     },
     "metadata": {},
     "output_type": "display_data"
    },
    {
     "name": "stdout",
     "output_type": "stream",
     "text": [
      "\n"
     ]
    }
   ],
   "source": [
    "ultimate_y = model._model_json[\"output\"][\"archetypes\"]\n",
    "print(ultimate_y)"
   ]
  },
  {
   "cell_type": "code",
   "execution_count": 104,
   "metadata": {},
   "outputs": [
    {
     "data": {
      "text/html": [
       "<div>\n",
       "<style scoped>\n",
       "    .dataframe tbody tr th:only-of-type {\n",
       "        vertical-align: middle;\n",
       "    }\n",
       "\n",
       "    .dataframe tbody tr th {\n",
       "        vertical-align: top;\n",
       "    }\n",
       "\n",
       "    .dataframe thead th {\n",
       "        text-align: right;\n",
       "    }\n",
       "</style>\n",
       "<table border=\"1\" class=\"dataframe\">\n",
       "  <thead>\n",
       "    <tr style=\"text-align: right;\">\n",
       "      <th></th>\n",
       "      <th></th>\n",
       "      <th>timestamp</th>\n",
       "      <th>duration</th>\n",
       "      <th>iterations</th>\n",
       "      <th>step_size</th>\n",
       "      <th>objective</th>\n",
       "    </tr>\n",
       "  </thead>\n",
       "  <tbody>\n",
       "    <tr>\n",
       "      <td>0</td>\n",
       "      <td></td>\n",
       "      <td>2019-09-16 11:23:02</td>\n",
       "      <td>0.087 sec</td>\n",
       "      <td>0.0</td>\n",
       "      <td>0.666667</td>\n",
       "      <td>1.756825e+07</td>\n",
       "    </tr>\n",
       "    <tr>\n",
       "      <td>1</td>\n",
       "      <td></td>\n",
       "      <td>2019-09-16 11:23:02</td>\n",
       "      <td>0.121 sec</td>\n",
       "      <td>1.0</td>\n",
       "      <td>0.444444</td>\n",
       "      <td>1.756825e+07</td>\n",
       "    </tr>\n",
       "    <tr>\n",
       "      <td>2</td>\n",
       "      <td></td>\n",
       "      <td>2019-09-16 11:23:02</td>\n",
       "      <td>0.151 sec</td>\n",
       "      <td>2.0</td>\n",
       "      <td>0.222222</td>\n",
       "      <td>1.756825e+07</td>\n",
       "    </tr>\n",
       "    <tr>\n",
       "      <td>3</td>\n",
       "      <td></td>\n",
       "      <td>2019-09-16 11:23:02</td>\n",
       "      <td>0.181 sec</td>\n",
       "      <td>3.0</td>\n",
       "      <td>0.074074</td>\n",
       "      <td>1.756825e+07</td>\n",
       "    </tr>\n",
       "  </tbody>\n",
       "</table>\n",
       "</div>"
      ],
      "text/plain": [
       "               timestamp    duration  iterations  step_size     objective\n",
       "0    2019-09-16 11:23:02   0.087 sec         0.0   0.666667  1.756825e+07\n",
       "1    2019-09-16 11:23:02   0.121 sec         1.0   0.444444  1.756825e+07\n",
       "2    2019-09-16 11:23:02   0.151 sec         2.0   0.222222  1.756825e+07\n",
       "3    2019-09-16 11:23:02   0.181 sec         3.0   0.074074  1.756825e+07"
      ]
     },
     "execution_count": 104,
     "metadata": {},
     "output_type": "execute_result"
    }
   ],
   "source": [
    "model.score_history()"
   ]
  },
  {
   "cell_type": "code",
   "execution_count": null,
   "metadata": {},
   "outputs": [],
   "source": []
  }
 ],
 "metadata": {
  "kernelspec": {
   "display_name": "Python 3",
   "language": "python",
   "name": "python3"
  },
  "language_info": {
   "codemirror_mode": {
    "name": "ipython",
    "version": 3
   },
   "file_extension": ".py",
   "mimetype": "text/x-python",
   "name": "python",
   "nbconvert_exporter": "python",
   "pygments_lexer": "ipython3",
   "version": "3.6.7"
  }
 },
 "nbformat": 4,
 "nbformat_minor": 2
}
